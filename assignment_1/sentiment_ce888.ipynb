{
  "nbformat": 4,
  "nbformat_minor": 0,
  "metadata": {
    "colab": {
      "name": "sentiment-ce888.ipynb",
      "provenance": [],
      "authorship_tag": "ABX9TyMtT8kvcJsvJy1MIdT/Vlvg",
      "include_colab_link": true
    },
    "kernelspec": {
      "name": "python3",
      "display_name": "Python 3"
    },
    "accelerator": "GPU"
  },
  "cells": [
    {
      "cell_type": "markdown",
      "metadata": {
        "id": "view-in-github",
        "colab_type": "text"
      },
      "source": [
        "<a href=\"https://colab.research.google.com/github/sharon-raj-1718/CE888/blob/main/assignment_1/sentiment_ce888.ipynb\" target=\"_parent\"><img src=\"https://colab.research.google.com/assets/colab-badge.svg\" alt=\"Open In Colab\"/></a>"
      ]
    },
    {
      "cell_type": "markdown",
      "metadata": {
        "id": "Nwdn9J58lNqz"
      },
      "source": [
        "#                  **TweetEval-based Multi-class tweet classification**\n",
        "\n",
        "\n",
        "\n",
        "\n",
        "\n",
        "\n",
        "\n"
      ]
    },
    {
      "cell_type": "markdown",
      "metadata": {
        "id": "HewHummMl6m5"
      },
      "source": [
        "# Loading of libraries"
      ]
    },
    {
      "cell_type": "code",
      "metadata": {
        "id": "hmcT80AMqOU_"
      },
      "source": [
        "import pandas as pd\n",
        "import numpy as np\n",
        "import csv\n",
        "import matplotlib.pyplot as plt\n",
        "import urllib.request\n",
        "import nltk\n",
        "from nltk.stem import PorterStemmer\n",
        "from nltk.stem import SnowballStemmer\n",
        "from nltk.corpus import stopwords\n",
        "from nltk.tokenize import word_tokenize\n",
        "from sklearn.metrics import f1_score\n",
        "import re\n",
        "import requests\n",
        "import string\n",
        "from nltk.corpus import stopwords\n",
        "import seaborn as sns\n",
        "import re\n",
        "from sklearn.metrics import f1_score\n",
        "from sklearn.svm import LinearSVC\n",
        "from sklearn.feature_extraction.text import  CountVectorizer, TfidfVectorizer\n",
        "from sklearn import svm"
      ],
      "execution_count": 36,
      "outputs": []
    },
    {
      "cell_type": "markdown",
      "metadata": {
        "id": "w4nZ0SMklzfW"
      },
      "source": [
        "# Load the dataset"
      ]
    },
    {
      "cell_type": "code",
      "metadata": {
        "id": "5K7H71f5jC1A"
      },
      "source": [
        "train_text = pd.read_csv(\"https://raw.githubusercontent.com/cardiffnlp/tweeteval/main/datasets/sentiment/train_text.txt\",encoding='utf-8',sep=\"\\t\", header=None)\n",
        "train_label = pd.read_csv(\"https://raw.githubusercontent.com/cardiffnlp/tweeteval/main/datasets/sentiment/train_labels.txt\",encoding='utf-8',sep=\"\\t\", header=None)\n",
        "validate_text = pd.read_csv(\"https://raw.githubusercontent.com/cardiffnlp/tweeteval/main/datasets/sentiment/val_text.txt\",encoding='utf-8',sep=\"\\t\", header=None)\n",
        "validate_label = pd.read_csv(\"https://raw.githubusercontent.com/cardiffnlp/tweeteval/main/datasets/sentiment/val_labels.txt\",encoding='utf-8',sep=\"\\t\", header=None)\n",
        "test_text = pd.read_csv(\"https://raw.githubusercontent.com/cardiffnlp/tweeteval/main/datasets/sentiment/test_text.txt\",encoding='utf-8',sep=\"\\t\", header=None)\n",
        "test_label = pd.read_csv(\"https://raw.githubusercontent.com/cardiffnlp/tweeteval/main/datasets/sentiment/test_labels.txt\",encoding='utf-8',sep=\"\\t\", header=None)\n",
        "map = pd.read_csv(\"https://raw.githubusercontent.com/cardiffnlp/tweeteval/main/datasets/sentiment/mapping.txt\",encoding='utf-8',sep=\"\\t\", header=None)"
      ],
      "execution_count": 37,
      "outputs": []
    },
    {
      "cell_type": "code",
      "metadata": {
        "id": "k68L4D5sv2Rq"
      },
      "source": [
        "train_text.columns= [\"text\"]\n",
        "train_label.columns= [\"label\"]\n",
        "validate_text.columns= [\"text\"]\n",
        "validate_label.columns= [\"label\"]\n",
        "test_text.columns= [\"text\"]\n",
        "test_label.columns= [\"label\"]\n",
        "map.columns= [\"label\",\"sentiment\"]"
      ],
      "execution_count": 39,
      "outputs": []
    },
    {
      "cell_type": "code",
      "metadata": {
        "colab": {
          "base_uri": "https://localhost:8080/",
          "height": 313
        },
        "id": "pvx_Mq3pLJ9V",
        "outputId": "6dadd2d7-fc8f-489e-adc3-956b9d237b58"
      },
      "source": [
        "labels = ['Training Set', 'Validation Set', 'Test Set'] \n",
        "sizes = [len(train_label), len(validate_label), len(test_label)] \n",
        "explode = (0, 0, 0.1)\n",
        "fig1, ax1 = plt.subplots() \n",
        "ax1.pie(sizes, explode=explode, labels=labels, autopct='%1.1f%%', startangle=90)\n",
        "ax1.axis('equal')\n",
        "plt.tight_layout() \n",
        "plt.title(\"data split\") \n",
        "plt.show()"
      ],
      "execution_count": 40,
      "outputs": [
        {
          "output_type": "display_data",
          "data": {
            "image/png": "[encoded data removed]",
            "text/plain": [
              "<Figure size 432x288 with 1 Axes>"
            ]
          },
          "metadata": {
            "tags": []
          }
        }
      ]
    },
    {
      "cell_type": "markdown",
      "metadata": {
        "id": "5OEXq0PXgtnZ"
      },
      "source": [
        "# Preprocessing"
      ]
    },
    {
      "cell_type": "code",
      "metadata": {
        "id": "lMXhtghMwiIN"
      },
      "source": [
        "def preprocess(text):\n",
        "    new_text = []\n",
        "    for t in text.split(\" \"):\n",
        "        t = '@user' if t.startswith('@') and len(t) > 1 else t\n",
        "        t = 'http' if t.startswith('http') else t\n",
        "        new_text.append(t)\n",
        "    return \" \".join(new_text)\n"
      ],
      "execution_count": 41,
      "outputs": []
    },
    {
      "cell_type": "markdown",
      "metadata": {
        "id": "t0L2XprMgdSL"
      },
      "source": [
        "#Pulls Out all the HTML related tags ,unwanted characters and Amend text to lowercase"
      ]
    },
    {
      "cell_type": "code",
      "metadata": {
        "id": "ZZvlFwx1fWCM"
      },
      "source": [
        "def clean_tweet(text):\n",
        "    text = re.sub(r'<.*?>', '', text)\n",
        "    text = re.sub(r\"\\\\\", \"\", text)    \n",
        "    text = re.sub(r\"\\'\", \"\", text)    \n",
        "    text = re.sub(r\"\\\"\", \"\", text)\n",
        "    text = text.strip().lower()\n",
        "    filters='!\"\\'#$%&()*+,-./:;<=>?@[\\\\]^_`{|}~\\t\\n'\n",
        "    translate_dict = dict((c, \" \") for c in filters)\n",
        "    translate_map = str.maketrans(translate_dict)\n",
        "    text = text.translate(translate_map)\n",
        "    \n",
        "    return text"
      ],
      "execution_count": 42,
      "outputs": []
    },
    {
      "cell_type": "markdown",
      "metadata": {
        "id": "qCJffJFDg4Uu"
      },
      "source": [
        "# Tokenizing function used for all the data"
      ]
    },
    {
      "cell_type": "code",
      "metadata": {
        "id": "Oh6xQsguwUFq"
      },
      "source": [
        "def text_preprocessing(text):\n",
        "    tokenizer = nltk.tokenize.RegexpTokenizer(r'\\w+')\n",
        "    nopunc = clean_tweet(text)\n",
        "    tokenized_text = tokenizer.tokenize(nopunc)\n",
        "    combined_text = ' '.join(tokenized_text)\n",
        "    return combined_text"
      ],
      "execution_count": 43,
      "outputs": []
    },
    {
      "cell_type": "code",
      "metadata": {
        "colab": {
          "base_uri": "https://localhost:8080/",
          "height": 313
        },
        "id": "9N-eyz3IMJVy",
        "outputId": "230a895f-26d4-4750-a981-2fde65d4ba4d"
      },
      "source": [
        "non_sen = train_label[train_label.label == 0].shape[0]\n",
        "sen = train_label[train_label.label == 1].shape[0]\n",
        "\n",
        "labels = ['Non sentimental Tweets', ' sentimental Tweets']\n",
        "sizes = [non_sen,sen]\n",
        "fig1, ax1 = plt.subplots()\n",
        "explode = (0.02, 0.02)  \n",
        "ax1.pie(sizes, explode= explode, labels=labels, autopct='%1.1f%%', startangle=90)\n",
        "ax1.axis('equal')  \n",
        "plt.tight_layout()\n",
        "plt.title(\"percentage of sentimental and non sentimental Tweets\")\n",
        "plt.show()"
      ],
      "execution_count": 44,
      "outputs": [
        {
          "output_type": "display_data",
          "data": {
            "image/png": "[encoded data removed]",
            "text/plain": [
              "<Figure size 432x288 with 1 Axes>"
            ]
          },
          "metadata": {
            "tags": []
          }
        }
      ]
    },
    {
      "cell_type": "markdown",
      "metadata": {
        "id": "qIoJ-R67huB0"
      },
      "source": [
        "#sucession the  dataframe and some further preprocessing"
      ]
    },
    {
      "cell_type": "code",
      "metadata": {
        "colab": {
          "base_uri": "https://localhost:8080/",
          "height": 419
        },
        "id": "cmikXyo9wzUu",
        "outputId": "45785202-d647-4c22-c2ed-e3a546945f48"
      },
      "source": [
        "\n",
        "con_train = pd.concat([train_text,train_label], axis=1)\n",
        "con_val = pd.concat([validate_text,validate_label], axis=1)\n",
        "con_test = pd.concat([test_text,test_label], axis=1)\n",
        "\n",
        "sentiment_train = pd.merge(con_train,map, on='label')\n",
        "sentiment_validate = pd.merge(con_val,map, on='label')\n",
        "sentiment_test = pd.merge(con_test,map, on='label')\n",
        "\n",
        "train_validate = pd.concat([sentiment_train,sentiment_validate])\n",
        "\n",
        "sentiment_train1 = train_validate.copy()\n",
        "sentiment_train1['clean_t'] = sentiment_train1['text'].apply(str).apply(lambda x: text_preprocessing(x))\n",
        "sentiment_train1['clean_t'] = sentiment_train1['clean_t'].str.replace('user','')\n",
        "sentiment_train1['clean_t'] = sentiment_train1['clean_t'].str.replace('amp','')\n",
        "sentiment_train1\n",
        "\n"
      ],
      "execution_count": 45,
      "outputs": [
        {
          "output_type": "execute_result",
          "data": {
            "text/html": [
              "<div>\n",
              "<style scoped>\n",
              "    .dataframe tbody tr th:only-of-type {\n",
              "        vertical-align: middle;\n",
              "    }\n",
              "\n",
              "    .dataframe tbody tr th {\n",
              "        vertical-align: top;\n",
              "    }\n",
              "\n",
              "    .dataframe thead th {\n",
              "        text-align: right;\n",
              "    }\n",
              "</style>\n",
              "<table border=\"1\" class=\"dataframe\">\n",
              "  <thead>\n",
              "    <tr style=\"text-align: right;\">\n",
              "      <th></th>\n",
              "      <th>text</th>\n",
              "      <th>label</th>\n",
              "      <th>sentiment</th>\n",
              "      <th>clean_t</th>\n",
              "    </tr>\n",
              "  </thead>\n",
              "  <tbody>\n",
              "    <tr>\n",
              "      <th>0</th>\n",
              "      <td>QT @user In the original draft of the 7th book...</td>\n",
              "      <td>2</td>\n",
              "      <td>positive</td>\n",
              "      <td>qt  in the original draft of the 7th book remu...</td>\n",
              "    </tr>\n",
              "    <tr>\n",
              "      <th>1</th>\n",
              "      <td>@user Alciato: Bee will invest 150 million in ...</td>\n",
              "      <td>2</td>\n",
              "      <td>positive</td>\n",
              "      <td>alciato bee will invest 150 million in januar...</td>\n",
              "    </tr>\n",
              "    <tr>\n",
              "      <th>2</th>\n",
              "      <td>@user LIT MY MUM 'Kerry the louboutins I wonde...</td>\n",
              "      <td>2</td>\n",
              "      <td>positive</td>\n",
              "      <td>lit my mum kerry the louboutins i wonder how ...</td>\n",
              "    </tr>\n",
              "    <tr>\n",
              "      <th>3</th>\n",
              "      <td>\\\"\" SOUL TRAIN\\\"\" OCT 27 HALLOWEEN SPECIAL ft ...</td>\n",
              "      <td>2</td>\n",
              "      <td>positive</td>\n",
              "      <td>soul train oct 27 halloween special ft t dot f...</td>\n",
              "    </tr>\n",
              "    <tr>\n",
              "      <th>4</th>\n",
              "      <td>This is the last Sunday w/o football .....,NFL...</td>\n",
              "      <td>2</td>\n",
              "      <td>positive</td>\n",
              "      <td>this is the last sunday w o football nfl is ba...</td>\n",
              "    </tr>\n",
              "    <tr>\n",
              "      <th>...</th>\n",
              "      <td>...</td>\n",
              "      <td>...</td>\n",
              "      <td>...</td>\n",
              "      <td>...</td>\n",
              "    </tr>\n",
              "    <tr>\n",
              "      <th>1995</th>\n",
              "      <td>NaN</td>\n",
              "      <td>0</td>\n",
              "      <td>negative</td>\n",
              "      <td>nan</td>\n",
              "    </tr>\n",
              "    <tr>\n",
              "      <th>1996</th>\n",
              "      <td>NaN</td>\n",
              "      <td>0</td>\n",
              "      <td>negative</td>\n",
              "      <td>nan</td>\n",
              "    </tr>\n",
              "    <tr>\n",
              "      <th>1997</th>\n",
              "      <td>NaN</td>\n",
              "      <td>0</td>\n",
              "      <td>negative</td>\n",
              "      <td>nan</td>\n",
              "    </tr>\n",
              "    <tr>\n",
              "      <th>1998</th>\n",
              "      <td>NaN</td>\n",
              "      <td>0</td>\n",
              "      <td>negative</td>\n",
              "      <td>nan</td>\n",
              "    </tr>\n",
              "    <tr>\n",
              "      <th>1999</th>\n",
              "      <td>NaN</td>\n",
              "      <td>0</td>\n",
              "      <td>negative</td>\n",
              "      <td>nan</td>\n",
              "    </tr>\n",
              "  </tbody>\n",
              "</table>\n",
              "<p>47615 rows × 4 columns</p>\n",
              "</div>"
            ],
            "text/plain": [
              "                                                   text  ...                                            clean_t\n",
              "0     QT @user In the original draft of the 7th book...  ...  qt  in the original draft of the 7th book remu...\n",
              "1     @user Alciato: Bee will invest 150 million in ...  ...   alciato bee will invest 150 million in januar...\n",
              "2     @user LIT MY MUM 'Kerry the louboutins I wonde...  ...   lit my mum kerry the louboutins i wonder how ...\n",
              "3     \\\"\" SOUL TRAIN\\\"\" OCT 27 HALLOWEEN SPECIAL ft ...  ...  soul train oct 27 halloween special ft t dot f...\n",
              "4     This is the last Sunday w/o football .....,NFL...  ...  this is the last sunday w o football nfl is ba...\n",
              "...                                                 ...  ...                                                ...\n",
              "1995                                                NaN  ...                                                nan\n",
              "1996                                                NaN  ...                                                nan\n",
              "1997                                                NaN  ...                                                nan\n",
              "1998                                                NaN  ...                                                nan\n",
              "1999                                                NaN  ...                                                nan\n",
              "\n",
              "[47615 rows x 4 columns]"
            ]
          },
          "metadata": {
            "tags": []
          },
          "execution_count": 45
        }
      ]
    },
    {
      "cell_type": "code",
      "metadata": {
        "colab": {
          "base_uri": "https://localhost:8080/",
          "height": 419
        },
        "id": "aEp4aFX_ETxi",
        "outputId": "d3508b12-d3dd-4b6d-ca4b-f2bbc0408afc"
      },
      "source": [
        "sentiment_train1.dropna(axis='columns')"
      ],
      "execution_count": 9,
      "outputs": [
        {
          "output_type": "execute_result",
          "data": {
            "text/html": [
              "<div>\n",
              "<style scoped>\n",
              "    .dataframe tbody tr th:only-of-type {\n",
              "        vertical-align: middle;\n",
              "    }\n",
              "\n",
              "    .dataframe tbody tr th {\n",
              "        vertical-align: top;\n",
              "    }\n",
              "\n",
              "    .dataframe thead th {\n",
              "        text-align: right;\n",
              "    }\n",
              "</style>\n",
              "<table border=\"1\" class=\"dataframe\">\n",
              "  <thead>\n",
              "    <tr style=\"text-align: right;\">\n",
              "      <th></th>\n",
              "      <th>label</th>\n",
              "      <th>sentiment</th>\n",
              "      <th>clean_t</th>\n",
              "    </tr>\n",
              "  </thead>\n",
              "  <tbody>\n",
              "    <tr>\n",
              "      <th>0</th>\n",
              "      <td>2</td>\n",
              "      <td>positive</td>\n",
              "      <td>qt  in the original draft of the 7th book remu...</td>\n",
              "    </tr>\n",
              "    <tr>\n",
              "      <th>1</th>\n",
              "      <td>2</td>\n",
              "      <td>positive</td>\n",
              "      <td>alciato bee will invest 150 million in januar...</td>\n",
              "    </tr>\n",
              "    <tr>\n",
              "      <th>2</th>\n",
              "      <td>2</td>\n",
              "      <td>positive</td>\n",
              "      <td>lit my mum kerry the louboutins i wonder how ...</td>\n",
              "    </tr>\n",
              "    <tr>\n",
              "      <th>3</th>\n",
              "      <td>2</td>\n",
              "      <td>positive</td>\n",
              "      <td>soul train oct 27 halloween special ft t dot f...</td>\n",
              "    </tr>\n",
              "    <tr>\n",
              "      <th>4</th>\n",
              "      <td>2</td>\n",
              "      <td>positive</td>\n",
              "      <td>this is the last sunday w o football nfl is ba...</td>\n",
              "    </tr>\n",
              "    <tr>\n",
              "      <th>...</th>\n",
              "      <td>...</td>\n",
              "      <td>...</td>\n",
              "      <td>...</td>\n",
              "    </tr>\n",
              "    <tr>\n",
              "      <th>1995</th>\n",
              "      <td>0</td>\n",
              "      <td>negative</td>\n",
              "      <td>nan</td>\n",
              "    </tr>\n",
              "    <tr>\n",
              "      <th>1996</th>\n",
              "      <td>0</td>\n",
              "      <td>negative</td>\n",
              "      <td>nan</td>\n",
              "    </tr>\n",
              "    <tr>\n",
              "      <th>1997</th>\n",
              "      <td>0</td>\n",
              "      <td>negative</td>\n",
              "      <td>nan</td>\n",
              "    </tr>\n",
              "    <tr>\n",
              "      <th>1998</th>\n",
              "      <td>0</td>\n",
              "      <td>negative</td>\n",
              "      <td>nan</td>\n",
              "    </tr>\n",
              "    <tr>\n",
              "      <th>1999</th>\n",
              "      <td>0</td>\n",
              "      <td>negative</td>\n",
              "      <td>nan</td>\n",
              "    </tr>\n",
              "  </tbody>\n",
              "</table>\n",
              "<p>47615 rows × 3 columns</p>\n",
              "</div>"
            ],
            "text/plain": [
              "      label sentiment                                            clean_t\n",
              "0         2  positive  qt  in the original draft of the 7th book remu...\n",
              "1         2  positive   alciato bee will invest 150 million in januar...\n",
              "2         2  positive   lit my mum kerry the louboutins i wonder how ...\n",
              "3         2  positive  soul train oct 27 halloween special ft t dot f...\n",
              "4         2  positive  this is the last sunday w o football nfl is ba...\n",
              "...     ...       ...                                                ...\n",
              "1995      0  negative                                                nan\n",
              "1996      0  negative                                                nan\n",
              "1997      0  negative                                                nan\n",
              "1998      0  negative                                                nan\n",
              "1999      0  negative                                                nan\n",
              "\n",
              "[47615 rows x 3 columns]"
            ]
          },
          "metadata": {
            "tags": []
          },
          "execution_count": 9
        }
      ]
    },
    {
      "cell_type": "code",
      "metadata": {
        "colab": {
          "base_uri": "https://localhost:8080/",
          "height": 419
        },
        "id": "jM04jktKEid3",
        "outputId": "39620f2b-4e1e-4693-f3a0-94546b2f3a2d"
      },
      "source": [
        "df = sentiment_train1.apply (pd.to_numeric, errors='coerce')\n",
        "df = sentiment_train1.dropna()\n",
        "df"
      ],
      "execution_count": 46,
      "outputs": [
        {
          "output_type": "execute_result",
          "data": {
            "text/html": [
              "<div>\n",
              "<style scoped>\n",
              "    .dataframe tbody tr th:only-of-type {\n",
              "        vertical-align: middle;\n",
              "    }\n",
              "\n",
              "    .dataframe tbody tr th {\n",
              "        vertical-align: top;\n",
              "    }\n",
              "\n",
              "    .dataframe thead th {\n",
              "        text-align: right;\n",
              "    }\n",
              "</style>\n",
              "<table border=\"1\" class=\"dataframe\">\n",
              "  <thead>\n",
              "    <tr style=\"text-align: right;\">\n",
              "      <th></th>\n",
              "      <th>text</th>\n",
              "      <th>label</th>\n",
              "      <th>sentiment</th>\n",
              "      <th>clean_t</th>\n",
              "    </tr>\n",
              "  </thead>\n",
              "  <tbody>\n",
              "    <tr>\n",
              "      <th>0</th>\n",
              "      <td>QT @user In the original draft of the 7th book...</td>\n",
              "      <td>2</td>\n",
              "      <td>positive</td>\n",
              "      <td>qt  in the original draft of the 7th book remu...</td>\n",
              "    </tr>\n",
              "    <tr>\n",
              "      <th>1</th>\n",
              "      <td>@user Alciato: Bee will invest 150 million in ...</td>\n",
              "      <td>2</td>\n",
              "      <td>positive</td>\n",
              "      <td>alciato bee will invest 150 million in januar...</td>\n",
              "    </tr>\n",
              "    <tr>\n",
              "      <th>2</th>\n",
              "      <td>@user LIT MY MUM 'Kerry the louboutins I wonde...</td>\n",
              "      <td>2</td>\n",
              "      <td>positive</td>\n",
              "      <td>lit my mum kerry the louboutins i wonder how ...</td>\n",
              "    </tr>\n",
              "    <tr>\n",
              "      <th>3</th>\n",
              "      <td>\\\"\" SOUL TRAIN\\\"\" OCT 27 HALLOWEEN SPECIAL ft ...</td>\n",
              "      <td>2</td>\n",
              "      <td>positive</td>\n",
              "      <td>soul train oct 27 halloween special ft t dot f...</td>\n",
              "    </tr>\n",
              "    <tr>\n",
              "      <th>4</th>\n",
              "      <td>This is the last Sunday w/o football .....,NFL...</td>\n",
              "      <td>2</td>\n",
              "      <td>positive</td>\n",
              "      <td>this is the last sunday w o football nfl is ba...</td>\n",
              "    </tr>\n",
              "    <tr>\n",
              "      <th>...</th>\n",
              "      <td>...</td>\n",
              "      <td>...</td>\n",
              "      <td>...</td>\n",
              "      <td>...</td>\n",
              "    </tr>\n",
              "    <tr>\n",
              "      <th>1941</th>\n",
              "      <td>According to Janet Jackson's long time produce...</td>\n",
              "      <td>0</td>\n",
              "      <td>negative</td>\n",
              "      <td>according to janet jacksons long time producer...</td>\n",
              "    </tr>\n",
              "    <tr>\n",
              "      <th>1942</th>\n",
              "      <td>Monday at Town Ballroom: RICHIE HAWTIN with LO...</td>\n",
              "      <td>0</td>\n",
              "      <td>negative</td>\n",
              "      <td>monday at town ballroom richie hawtin with loc...</td>\n",
              "    </tr>\n",
              "    <tr>\n",
              "      <th>1943</th>\n",
              "      <td>Disappointed the Knicks vs Nets game got cance...</td>\n",
              "      <td>0</td>\n",
              "      <td>negative</td>\n",
              "      <td>disappointed the knicks vs nets game got cance...</td>\n",
              "    </tr>\n",
              "    <tr>\n",
              "      <th>1944</th>\n",
              "      <td>\\\"\"@_eryflores: March 16 Luke Bryan is gonna a...</td>\n",
              "      <td>0</td>\n",
              "      <td>negative</td>\n",
              "      <td>eryflores march 16 luke bryan is gonna at the ...</td>\n",
              "    </tr>\n",
              "    <tr>\n",
              "      <th>1945</th>\n",
              "      <td>The BAGRANGI new Pic,Of SALMAN khan That VERY ...</td>\n",
              "      <td>0</td>\n",
              "      <td>negative</td>\n",
              "      <td>the bagrangi new pic of salman khan that very ...</td>\n",
              "    </tr>\n",
              "  </tbody>\n",
              "</table>\n",
              "<p>37996 rows × 4 columns</p>\n",
              "</div>"
            ],
            "text/plain": [
              "                                                   text  ...                                            clean_t\n",
              "0     QT @user In the original draft of the 7th book...  ...  qt  in the original draft of the 7th book remu...\n",
              "1     @user Alciato: Bee will invest 150 million in ...  ...   alciato bee will invest 150 million in januar...\n",
              "2     @user LIT MY MUM 'Kerry the louboutins I wonde...  ...   lit my mum kerry the louboutins i wonder how ...\n",
              "3     \\\"\" SOUL TRAIN\\\"\" OCT 27 HALLOWEEN SPECIAL ft ...  ...  soul train oct 27 halloween special ft t dot f...\n",
              "4     This is the last Sunday w/o football .....,NFL...  ...  this is the last sunday w o football nfl is ba...\n",
              "...                                                 ...  ...                                                ...\n",
              "1941  According to Janet Jackson's long time produce...  ...  according to janet jacksons long time producer...\n",
              "1942  Monday at Town Ballroom: RICHIE HAWTIN with LO...  ...  monday at town ballroom richie hawtin with loc...\n",
              "1943  Disappointed the Knicks vs Nets game got cance...  ...  disappointed the knicks vs nets game got cance...\n",
              "1944  \\\"\"@_eryflores: March 16 Luke Bryan is gonna a...  ...  eryflores march 16 luke bryan is gonna at the ...\n",
              "1945  The BAGRANGI new Pic,Of SALMAN khan That VERY ...  ...  the bagrangi new pic of salman khan that very ...\n",
              "\n",
              "[37996 rows x 4 columns]"
            ]
          },
          "metadata": {
            "tags": []
          },
          "execution_count": 46
        }
      ]
    },
    {
      "cell_type": "code",
      "metadata": {
        "colab": {
          "base_uri": "https://localhost:8080/",
          "height": 1000
        },
        "id": "ZG7tftysx3E9",
        "outputId": "90e8711b-3a3a-443c-e061-112206d51ca6"
      },
      "source": [
        "g = (sns.catplot(x=\"sentiment\", kind=\"count\", palette=\"ch:.25\", data=sentiment_train))\n",
        "g.fig.suptitle(\"Training set\", y=1.5)\n",
        "plt.show()\n",
        "\n",
        "v = sns.catplot(x=\"sentiment\", kind=\"count\", palette=\"ch:.25\", data=sentiment_validate)\n",
        "v.fig.suptitle(\"Validation set\", y=1.5)\n",
        "plt.show()\n",
        "\n",
        "t = sns.catplot(x=\"sentiment\", kind=\"count\", palette=\"ch:.25\", data=sentiment_test)\n",
        "t.fig.suptitle(\"Test set\", y=1.5)\n",
        "plt.show()"
      ],
      "execution_count": 47,
      "outputs": [
        {
          "output_type": "display_data",
          "data": {
            "image/png": "[encoded data removed]",
            "text/plain": [
              "<Figure size 360x360 with 1 Axes>"
            ]
          },
          "metadata": {
            "tags": [],
            "needs_background": "light"
          }
        },
        {
          "output_type": "display_data",
          "data": {
            "image/png": "[encoded data removed]",
            "text/plain": [
              "<Figure size 360x360 with 1 Axes>"
            ]
          },
          "metadata": {
            "tags": [],
            "needs_background": "light"
          }
        },
        {
          "output_type": "display_data",
          "data": {
            "image/png": "[encoded data removed]",
            "text/plain": [
              "<Figure size 360x360 with 1 Axes>"
            ]
          },
          "metadata": {
            "tags": [],
            "needs_background": "light"
          }
        }
      ]
    },
    {
      "cell_type": "code",
      "metadata": {
        "id": "8Jci16nGxTGL"
      },
      "source": [
        "sentiment_1 = df[df ['sentiment'] == 'sentiment']['clean_t']\n",
        "sentiment_0 = df[df ['sentiment'] == 'non-sentiment']['clean_t'] \n"
      ],
      "execution_count": 13,
      "outputs": []
    },
    {
      "cell_type": "markdown",
      "metadata": {
        "id": "FvZRLk7CipjK"
      },
      "source": [
        "# Vectorizing for Offensive dataset"
      ]
    },
    {
      "cell_type": "code",
      "metadata": {
        "id": "qRAapAwo3UhS"
      },
      "source": [
        "vectorizer = CountVectorizer(stop_words=\"english\",preprocessor=clean_tweet,ngram_range=(1,2))\n",
        "training_features = vectorizer.fit_transform(train_validate[\"text\"].values.astype('U')) \n",
        "test_features = vectorizer.transform(df[\"text\"].values.astype('U'))\n"
      ],
      "execution_count": 23,
      "outputs": []
    },
    {
      "cell_type": "code",
      "metadata": {
        "colab": {
          "base_uri": "https://localhost:8080/"
        },
        "id": "y6wHxnH4mQ8J",
        "outputId": "0dafbd6b-d90f-4ddc-ca29-1204d8f5af42"
      },
      "source": [
        "test_features"
      ],
      "execution_count": 15,
      "outputs": [
        {
          "output_type": "execute_result",
          "data": {
            "text/plain": [
              "<12284x2184143 sparse matrix of type '<class 'numpy.int64'>'\n",
              "\twith 113726 stored elements in Compressed Sparse Row format>"
            ]
          },
          "metadata": {
            "tags": []
          },
          "execution_count": 15
        }
      ]
    },
    {
      "cell_type": "code",
      "metadata": {
        "colab": {
          "base_uri": "https://localhost:8080/"
        },
        "id": "rM_4CTkamTbQ",
        "outputId": "b306ff5e-39f3-41f3-8a5b-f46d0d212b28"
      },
      "source": [
        "print(test_features)"
      ],
      "execution_count": 16,
      "outputs": [
        {
          "output_type": "stream",
          "text": [
            "  (0, 1082374)\t1\n",
            "  (0, 1257059)\t1\n",
            "  (0, 1400062)\t1\n",
            "  (0, 1810136)\t1\n",
            "  (0, 1810490)\t1\n",
            "  (0, 1955133)\t2\n",
            "  (0, 1993826)\t1\n",
            "  (0, 2014527)\t1\n",
            "  (1, 266343)\t1\n",
            "  (1, 563669)\t1\n",
            "  (1, 764753)\t1\n",
            "  (1, 765044)\t1\n",
            "  (1, 1333659)\t1\n",
            "  (1, 1383404)\t1\n",
            "  (1, 1416093)\t1\n",
            "  (1, 2052058)\t1\n",
            "  (2, 403519)\t1\n",
            "  (2, 405664)\t1\n",
            "  (2, 740049)\t1\n",
            "  (2, 1186185)\t1\n",
            "  (2, 1803926)\t1\n",
            "  (2, 1804243)\t1\n",
            "  (2, 1814251)\t1\n",
            "  (2, 1955133)\t2\n",
            "  (2, 2009553)\t1\n",
            "  :\t:\n",
            "  (12259, 1257862)\t1\n",
            "  (12260, 1257862)\t1\n",
            "  (12261, 1257862)\t1\n",
            "  (12262, 1257862)\t1\n",
            "  (12263, 1257862)\t1\n",
            "  (12264, 1257862)\t1\n",
            "  (12265, 1257862)\t1\n",
            "  (12266, 1257862)\t1\n",
            "  (12267, 1257862)\t1\n",
            "  (12268, 1257862)\t1\n",
            "  (12269, 1257862)\t1\n",
            "  (12270, 1257862)\t1\n",
            "  (12271, 1257862)\t1\n",
            "  (12272, 1257862)\t1\n",
            "  (12273, 1257862)\t1\n",
            "  (12274, 1257862)\t1\n",
            "  (12275, 1257862)\t1\n",
            "  (12276, 1257862)\t1\n",
            "  (12277, 1257862)\t1\n",
            "  (12278, 1257862)\t1\n",
            "  (12279, 1257862)\t1\n",
            "  (12280, 1257862)\t1\n",
            "  (12281, 1257862)\t1\n",
            "  (12282, 1257862)\t1\n",
            "  (12283, 1257862)\t1\n"
          ],
          "name": "stdout"
        }
      ]
    },
    {
      "cell_type": "markdown",
      "metadata": {
        "id": "mxa2Qbp7i9E2"
      },
      "source": [
        "# Training the model"
      ]
    },
    {
      "cell_type": "code",
      "metadata": {
        "id": "AvSzdh4u_RGR"
      },
      "source": [
        "model = LinearSVC()\n",
        "model.fit(training_features, train_validate[\"sentiment\"])\n",
        "y_pred = model.predict(test_features)"
      ],
      "execution_count": 24,
      "outputs": []
    },
    {
      "cell_type": "markdown",
      "metadata": {
        "id": "cx6wN7rujFIy"
      },
      "source": [
        "# Evaluation metrics"
      ]
    },
    {
      "cell_type": "code",
      "metadata": {
        "id": "uUwlffv9jHQx",
        "colab": {
          "base_uri": "https://localhost:8080/"
        },
        "outputId": "dcb8f29e-5e11-40c0-ac86-c36525e49617"
      },
      "source": [
        "score = f1_score(df[\"sentiment\"], y_pred,average='macro')\n",
        "\n",
        "print(\"Accuracy for the sentiment: {:.2f}\".format(score*100,2))"
      ],
      "execution_count": 26,
      "outputs": [
        {
          "output_type": "stream",
          "text": [
            "Accuracy for the sentiment: 99.85\n"
          ],
          "name": "stdout"
        }
      ]
    }
  ]
}