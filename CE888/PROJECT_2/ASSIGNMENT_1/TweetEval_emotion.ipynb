{
  "nbformat": 4,
  "nbformat_minor": 0,
  "metadata": {
    "colab": {
      "name": "TweetEval-emotion.ipynb",
      "provenance": [],
      "authorship_tag": "ABX9TyMe4JYLmtB79h/FFEOFmpGr",
      "include_colab_link": true
    },
    "kernelspec": {
      "name": "python3",
      "display_name": "Python 3"
    }
  },
  "cells": [
    {
      "cell_type": "markdown",
      "metadata": {
        "id": "view-in-github",
        "colab_type": "text"
      },
      "source": [
        "<a href=\"https://colab.research.google.com/github/sharon-raj-1718/CE888/blob/main/CE888/PROJECT_2/ASSIGNMENT_1/TweetEval_emotion.ipynb\" target=\"_parent\"><img src=\"https://colab.research.google.com/assets/colab-badge.svg\" alt=\"Open In Colab\"/></a>"
      ]
    },
    {
      "cell_type": "markdown",
      "metadata": {
        "id": "Nwdn9J58lNqz"
      },
      "source": [
        "#                  **TweetEval-based Multi-class tweet classification**\n",
        "\n",
        "\n",
        "\n",
        "\n",
        "\n",
        "\n",
        "\n"
      ]
    },
    {
      "cell_type": "markdown",
      "metadata": {
        "id": "HewHummMl6m5"
      },
      "source": [
        "# Loading of libraries"
      ]
    },
    {
      "cell_type": "code",
      "metadata": {
        "id": "hmcT80AMqOU_"
      },
      "source": [
        "import pandas as pd\n",
        "import numpy as np\n",
        "import csv\n",
        "import matplotlib.pyplot as plt\n",
        "import urllib.request\n",
        "import nltk\n",
        "from nltk.stem import PorterStemmer\n",
        "from nltk.stem import SnowballStemmer\n",
        "from nltk.corpus import stopwords\n",
        "from nltk.tokenize import word_tokenize\n",
        "from sklearn.metrics import f1_score\n",
        "import re\n",
        "import requests\n",
        "import string\n",
        "from nltk.corpus import stopwords\n",
        "import seaborn as sns\n",
        "import re\n",
        "from sklearn.metrics import f1_score\n",
        "from sklearn.svm import LinearSVC\n",
        "from sklearn.feature_extraction.text import  CountVectorizer, TfidfVectorizer\n",
        "from sklearn import svm"
      ],
      "execution_count": 11,
      "outputs": []
    },
    {
      "cell_type": "markdown",
      "metadata": {
        "id": "w4nZ0SMklzfW"
      },
      "source": [
        "# Load the dataset"
      ]
    },
    {
      "cell_type": "code",
      "metadata": {
        "id": "IsVZNT7Dqa3p"
      },
      "source": [
        "train_text = pd.read_csv(\"https://raw.githubusercontent.com/cardiffnlp/tweeteval/main/datasets/emotion/train_text.txt\",encoding='utf-8',sep=\"\\t\", header=None)\n",
        "train_label = pd.read_csv(\"https://raw.githubusercontent.com/cardiffnlp/tweeteval/main/datasets/emotion/train_labels.txt\",encoding='utf-8',sep=\"\\t\", header=None)\n",
        "validate_text = pd.read_csv(\"https://raw.githubusercontent.com/cardiffnlp/tweeteval/main/datasets/emotion/val_text.txt\",encoding='utf-8',sep=\"\\t\", header=None)\n",
        "validate_label = pd.read_csv(\"https://raw.githubusercontent.com/cardiffnlp/tweeteval/main/datasets/emotion/val_labels.txt\",encoding='utf-8',sep=\"\\t\", header=None)\n",
        "test_text = pd.read_csv(\"https://raw.githubusercontent.com/cardiffnlp/tweeteval/main/datasets/emotion/test_text.txt\",encoding='utf-8',sep=\"\\t\", header=None)\n",
        "test_label = pd.read_csv(\"https://raw.githubusercontent.com/cardiffnlp/tweeteval/main/datasets/emotion/test_labels.txt\",encoding='utf-8',sep=\"\\t\", header=None)\n",
        "map = pd.read_csv(\"https://raw.githubusercontent.com/cardiffnlp/tweeteval/main/datasets/emotion/mapping.txt\",encoding='utf-8',sep=\"\\t\", header=None)"
      ],
      "execution_count": 12,
      "outputs": []
    },
    {
      "cell_type": "code",
      "metadata": {
        "id": "k68L4D5sv2Rq"
      },
      "source": [
        "train_text.columns= [\"text\"]\n",
        "train_label.columns= [\"label\"]\n",
        "validate_text.columns= [\"text\"]\n",
        "validate_label.columns= [\"label\"]\n",
        "test_text.columns= [\"text\"]\n",
        "test_label.columns= [\"label\"]\n",
        "map.columns= [\"label\",\"emotion\"]"
      ],
      "execution_count": 13,
      "outputs": []
    },
    {
      "cell_type": "code",
      "metadata": {
        "colab": {
          "base_uri": "https://localhost:8080/",
          "height": 313
        },
        "id": "pvx_Mq3pLJ9V",
        "outputId": "3b624ff4-1192-4b16-da3f-4c51cffbc8f0"
      },
      "source": [
        "labels = ['Training Set', 'Validation Set', 'Test Set'] \n",
        "sizes = [len(train_label), len(validate_label), len(test_label)] \n",
        "explode = (0, 0, 0.1)\n",
        "fig1, ax1 = plt.subplots() \n",
        "ax1.pie(sizes, explode=explode, labels=labels, autopct='%1.1f%%', startangle=90)\n",
        "ax1.axis('equal')\n",
        "plt.tight_layout() \n",
        "plt.title(\"data split\") \n",
        "plt.show()"
      ],
      "execution_count": 14,
      "outputs": [
        {
          "output_type": "display_data",
          "data": {
            "image/png": "[encoded data removed]",
            "text/plain": [
              "<Figure size 432x288 with 1 Axes>"
            ]
          },
          "metadata": {
            "tags": []
          }
        }
      ]
    },
    {
      "cell_type": "markdown",
      "metadata": {
        "id": "5OEXq0PXgtnZ"
      },
      "source": [
        "# Preprocessing"
      ]
    },
    {
      "cell_type": "code",
      "metadata": {
        "id": "lMXhtghMwiIN"
      },
      "source": [
        "def preprocess(text):\n",
        "    new_text = []\n",
        "    for t in text.split(\" \"):\n",
        "        t = '@user' if t.startswith('@') and len(t) > 1 else t\n",
        "        t = 'http' if t.startswith('http') else t\n",
        "        new_text.append(t)\n",
        "    return \" \".join(new_text)\n"
      ],
      "execution_count": 15,
      "outputs": []
    },
    {
      "cell_type": "markdown",
      "metadata": {
        "id": "t0L2XprMgdSL"
      },
      "source": [
        "#Pulls Out all the HTML related tags ,unwanted characters and Amend text to lowercase"
      ]
    },
    {
      "cell_type": "code",
      "metadata": {
        "id": "ZZvlFwx1fWCM"
      },
      "source": [
        "def clean_tweet(text):\n",
        "    text = re.sub(r'<.*?>', '', text)\n",
        "    text = re.sub(r\"\\\\\", \"\", text)    \n",
        "    text = re.sub(r\"\\'\", \"\", text)    \n",
        "    text = re.sub(r\"\\\"\", \"\", text)\n",
        "    text = text.strip().lower()\n",
        "    filters='!\"\\'#$%&()*+,-./:;<=>?@[\\\\]^_`{|}~\\t\\n'\n",
        "    translate_dict = dict((c, \" \") for c in filters)\n",
        "    translate_map = str.maketrans(translate_dict)\n",
        "    text = text.translate(translate_map)\n",
        "    \n",
        "    return text"
      ],
      "execution_count": 16,
      "outputs": []
    },
    {
      "cell_type": "markdown",
      "metadata": {
        "id": "qCJffJFDg4Uu"
      },
      "source": [
        "# Tokenizing function used for all the data"
      ]
    },
    {
      "cell_type": "code",
      "metadata": {
        "id": "Oh6xQsguwUFq"
      },
      "source": [
        "def text_preprocessing(text):\n",
        "    tokenizer = nltk.tokenize.RegexpTokenizer(r'\\w+')\n",
        "    nopunc = clean_tweet(text)\n",
        "    tokenized_text = tokenizer.tokenize(nopunc)\n",
        "    combined_text = ' '.join(tokenized_text)\n",
        "    return combined_text"
      ],
      "execution_count": 17,
      "outputs": []
    },
    {
      "cell_type": "code",
      "metadata": {
        "colab": {
          "base_uri": "https://localhost:8080/",
          "height": 313
        },
        "id": "9N-eyz3IMJVy",
        "outputId": "b7efc52a-656a-471e-ada5-01be26549060"
      },
      "source": [
        "non_emo = train_label[train_label.label == 0].shape[0]\n",
        "emo = train_label[train_label.label == 1].shape[0]\n",
        "\n",
        "labels = ['Not emotional Tweets', ' emotional Tweets']\n",
        "sizes = [non_emo, emo]\n",
        "fig1, ax1 = plt.subplots()\n",
        "explode = (0.02, 0.02)  \n",
        "ax1.pie(sizes, explode= explode, labels=labels, autopct='%1.1f%%', startangle=90)\n",
        "ax1.axis('equal')  \n",
        "plt.tight_layout()\n",
        "plt.title(\"percentage of emotional and non emotional Tweets\")\n",
        "plt.show()"
      ],
      "execution_count": 18,
      "outputs": [
        {
          "output_type": "display_data",
          "data": {
            "image/png": "[encoded data removed]",
            "text/plain": [
              "<Figure size 432x288 with 1 Axes>"
            ]
          },
          "metadata": {
            "tags": []
          }
        }
      ]
    },
    {
      "cell_type": "markdown",
      "metadata": {
        "id": "qIoJ-R67huB0"
      },
      "source": [
        "#sucession the  dataframe and some further preprocessing"
      ]
    },
    {
      "cell_type": "code",
      "metadata": {
        "colab": {
          "base_uri": "https://localhost:8080/",
          "height": 419
        },
        "id": "cmikXyo9wzUu",
        "outputId": "62df32f2-ffea-44d1-d5f8-8805ce8b9cb1"
      },
      "source": [
        "\n",
        "con_train = pd.concat([train_text,train_label], axis=1)\n",
        "con_val = pd.concat([validate_text,validate_label], axis=1)\n",
        "con_test = pd.concat([test_text,test_label], axis=1)\n",
        "\n",
        "emotion_train = pd.merge(con_train,map, on='label')\n",
        "emotion_validate = pd.merge(con_val,map, on='label')\n",
        "emotion_test = pd.merge(con_test,map, on='label')\n",
        "\n",
        "train_validate = pd.concat([emotion_train,emotion_validate])\n",
        "\n",
        "emotion_train1 = train_validate.copy()\n",
        "emotion_train1['clean_t'] = emotion_train1['text'].apply(str).apply(lambda x: text_preprocessing(x))\n",
        "emotion_train1['clean_t'] = emotion_train1['clean_t'].str.replace('user','')\n",
        "emotion_train1['clean_t'] = emotion_train1['clean_t'].str.replace('amp','')\n",
        "emotion_train1\n",
        "\n"
      ],
      "execution_count": 19,
      "outputs": [
        {
          "output_type": "execute_result",
          "data": {
            "text/html": [
              "<div>\n",
              "<style scoped>\n",
              "    .dataframe tbody tr th:only-of-type {\n",
              "        vertical-align: middle;\n",
              "    }\n",
              "\n",
              "    .dataframe tbody tr th {\n",
              "        vertical-align: top;\n",
              "    }\n",
              "\n",
              "    .dataframe thead th {\n",
              "        text-align: right;\n",
              "    }\n",
              "</style>\n",
              "<table border=\"1\" class=\"dataframe\">\n",
              "  <thead>\n",
              "    <tr style=\"text-align: right;\">\n",
              "      <th></th>\n",
              "      <th>text</th>\n",
              "      <th>label</th>\n",
              "      <th>emotion</th>\n",
              "      <th>clean_t</th>\n",
              "    </tr>\n",
              "  </thead>\n",
              "  <tbody>\n",
              "    <tr>\n",
              "      <th>0</th>\n",
              "      <td>“Worry is a down payment on a problem you may ...</td>\n",
              "      <td>2</td>\n",
              "      <td>optimism</td>\n",
              "      <td>worry is a down payment on a problem you may n...</td>\n",
              "    </tr>\n",
              "    <tr>\n",
              "      <th>1</th>\n",
              "      <td>I saved him after ordering him to risk his lif...</td>\n",
              "      <td>2</td>\n",
              "      <td>optimism</td>\n",
              "      <td>i saved him after ordering him to risk his lif...</td>\n",
              "    </tr>\n",
              "    <tr>\n",
              "      <th>2</th>\n",
              "      <td>@user Uggh that's really horrible. You're not ...</td>\n",
              "      <td>2</td>\n",
              "      <td>optimism</td>\n",
              "      <td>uggh thats really horrible youre not a bad pe...</td>\n",
              "    </tr>\n",
              "    <tr>\n",
              "      <th>3</th>\n",
              "      <td>Love is when all your happiness and all your s...</td>\n",
              "      <td>2</td>\n",
              "      <td>optimism</td>\n",
              "      <td>love is when all your happiness and all your s...</td>\n",
              "    </tr>\n",
              "    <tr>\n",
              "      <th>4</th>\n",
              "      <td>“ My courage always rises at every attempt to ...</td>\n",
              "      <td>2</td>\n",
              "      <td>optimism</td>\n",
              "      <td>my courage always rises at every attempt to in...</td>\n",
              "    </tr>\n",
              "    <tr>\n",
              "      <th>...</th>\n",
              "      <td>...</td>\n",
              "      <td>...</td>\n",
              "      <td>...</td>\n",
              "      <td>...</td>\n",
              "    </tr>\n",
              "    <tr>\n",
              "      <th>369</th>\n",
              "      <td>Alaina and I are at 90 days on our snap streak...</td>\n",
              "      <td>2</td>\n",
              "      <td>optimism</td>\n",
              "      <td>alaina and i are at 90 days on our snap streak so</td>\n",
              "    </tr>\n",
              "    <tr>\n",
              "      <th>370</th>\n",
              "      <td>@user || I smell your fear.</td>\n",
              "      <td>2</td>\n",
              "      <td>optimism</td>\n",
              "      <td>i smell your fear</td>\n",
              "    </tr>\n",
              "    <tr>\n",
              "      <th>371</th>\n",
              "      <td>@user @user @user Seems legit. I always flinch...</td>\n",
              "      <td>2</td>\n",
              "      <td>optimism</td>\n",
              "      <td>seems legit i always flinch right before i ...</td>\n",
              "    </tr>\n",
              "    <tr>\n",
              "      <th>372</th>\n",
              "      <td>#faith is like #oil but #fear is like #dust ea...</td>\n",
              "      <td>2</td>\n",
              "      <td>optimism</td>\n",
              "      <td>faith is like oil but fear is like dust easily...</td>\n",
              "    </tr>\n",
              "    <tr>\n",
              "      <th>373</th>\n",
              "      <td>Life is too short to be jealous, hating, keepi...</td>\n",
              "      <td>2</td>\n",
              "      <td>optimism</td>\n",
              "      <td>life is too short to be jealous hating keeping...</td>\n",
              "    </tr>\n",
              "  </tbody>\n",
              "</table>\n",
              "<p>3631 rows × 4 columns</p>\n",
              "</div>"
            ],
            "text/plain": [
              "                                                  text  ...                                            clean_t\n",
              "0    “Worry is a down payment on a problem you may ...  ...  worry is a down payment on a problem you may n...\n",
              "1    I saved him after ordering him to risk his lif...  ...  i saved him after ordering him to risk his lif...\n",
              "2    @user Uggh that's really horrible. You're not ...  ...   uggh thats really horrible youre not a bad pe...\n",
              "3    Love is when all your happiness and all your s...  ...  love is when all your happiness and all your s...\n",
              "4    “ My courage always rises at every attempt to ...  ...  my courage always rises at every attempt to in...\n",
              "..                                                 ...  ...                                                ...\n",
              "369  Alaina and I are at 90 days on our snap streak...  ...  alaina and i are at 90 days on our snap streak so\n",
              "370                       @user || I smell your fear.   ...                                  i smell your fear\n",
              "371  @user @user @user Seems legit. I always flinch...  ...     seems legit i always flinch right before i ...\n",
              "372  #faith is like #oil but #fear is like #dust ea...  ...  faith is like oil but fear is like dust easily...\n",
              "373  Life is too short to be jealous, hating, keepi...  ...  life is too short to be jealous hating keeping...\n",
              "\n",
              "[3631 rows x 4 columns]"
            ]
          },
          "metadata": {
            "tags": []
          },
          "execution_count": 19
        }
      ]
    },
    {
      "cell_type": "code",
      "metadata": {
        "colab": {
          "base_uri": "https://localhost:8080/",
          "height": 1000
        },
        "id": "ZG7tftysx3E9",
        "outputId": "f44e5720-1ee5-4b64-ac19-5780fabeaff9"
      },
      "source": [
        "g = (sns.catplot(x=\"emotion\", kind=\"count\", palette=\"ch:.25\", data=emotion_train))\n",
        "g.fig.suptitle(\"Training set\", y=1.5)\n",
        "plt.show()\n",
        "\n",
        "v = sns.catplot(x=\"emotion\", kind=\"count\", palette=\"ch:.25\", data=emotion_validate)\n",
        "v.fig.suptitle(\"Validation set\", y=1.5)\n",
        "plt.show()\n",
        "\n",
        "t = sns.catplot(x=\"emotion\", kind=\"count\", palette=\"ch:.25\", data=emotion_test)\n",
        "t.fig.suptitle(\"Test set\", y=1.5)\n",
        "plt.show()"
      ],
      "execution_count": 20,
      "outputs": [
        {
          "output_type": "display_data",
          "data": {
            "image/png": "[encoded data removed]",
            "text/plain": [
              "<Figure size 360x360 with 1 Axes>"
            ]
          },
          "metadata": {
            "tags": [],
            "needs_background": "light"
          }
        },
        {
          "output_type": "display_data",
          "data": {
            "image/png": "[encoded data removed]",
            "text/plain": [
              "<Figure size 360x360 with 1 Axes>"
            ]
          },
          "metadata": {
            "tags": [],
            "needs_background": "light"
          }
        },
        {
          "output_type": "display_data",
          "data": {
            "image/png": "[encoded data removed]",
            "text/plain": [
              "<Figure size 360x360 with 1 Axes>"
            ]
          },
          "metadata": {
            "tags": [],
            "needs_background": "light"
          }
        }
      ]
    },
    {
      "cell_type": "code",
      "metadata": {
        "id": "8Jci16nGxTGL"
      },
      "source": [
        "emotion_1 = emotion_train1[emotion_train1 ['emotion'] == 'emotion']['clean_t']\n",
        "emotion_0 = emotion_train1[emotion_train1 ['emotion'] == 'non-emotion']['clean_t'] \n"
      ],
      "execution_count": null,
      "outputs": []
    },
    {
      "cell_type": "markdown",
      "metadata": {
        "id": "FvZRLk7CipjK"
      },
      "source": [
        "# Vectorizing for Offensive dataset"
      ]
    },
    {
      "cell_type": "code",
      "metadata": {
        "id": "qRAapAwo3UhS"
      },
      "source": [
        "vectorizer = TfidfVectorizer(stop_words=\"english\",preprocessor=clean_tweet,ngram_range=(1,2))\n",
        "training_features = vectorizer.fit_transform(train_validate[\"text\"])    \n",
        "test_features = vectorizer.transform(emotion_test[\"text\"])  \n"
      ],
      "execution_count": null,
      "outputs": []
    },
    {
      "cell_type": "markdown",
      "metadata": {
        "id": "mxa2Qbp7i9E2"
      },
      "source": [
        "# Training the model"
      ]
    },
    {
      "cell_type": "code",
      "metadata": {
        "id": "AvSzdh4u_RGR"
      },
      "source": [
        "model = LinearSVC()\n",
        "model.fit(training_features, train_validate[\"emotion\"])\n",
        "y_pred = model.predict(test_features)"
      ],
      "execution_count": null,
      "outputs": []
    },
    {
      "cell_type": "markdown",
      "metadata": {
        "id": "cx6wN7rujFIy"
      },
      "source": [
        "# Evaluation metrics"
      ]
    },
    {
      "cell_type": "code",
      "metadata": {
        "id": "uUwlffv9jHQx",
        "colab": {
          "base_uri": "https://localhost:8080/"
        },
        "outputId": "0dcdf6e9-30c1-472a-c8f6-9ab60e32b256"
      },
      "source": [
        "score = f1_score(emotion_test[\"emotion\"], y_pred,average='macro')\n",
        "\n",
        "print(\"Accuracy for the emotion: {:.2f}\".format(score*100,2))"
      ],
      "execution_count": null,
      "outputs": [
        {
          "output_type": "stream",
          "text": [
            "Accuracy for the emotion: 62.61\n"
          ],
          "name": "stdout"
        }
      ]
    }
  ]
}