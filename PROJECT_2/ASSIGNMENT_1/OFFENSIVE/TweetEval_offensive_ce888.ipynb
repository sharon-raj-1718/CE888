{
  "nbformat": 4,
  "nbformat_minor": 0,
  "metadata": {
    "colab": {
      "name": "TweetEval-offensive-ce888",
      "provenance": [],
      "collapsed_sections": [],
      "toc_visible": true,
      "include_colab_link": true
    },
    "kernelspec": {
      "display_name": "Python 3",
      "name": "python3"
    },
    "accelerator": "GPU"
  },
  "cells": [
    {
      "cell_type": "markdown",
      "metadata": {
        "id": "view-in-github",
        "colab_type": "text"
      },
      "source": [
        "<a href=\"https://colab.research.google.com/github/sharon-raj-1718/CE888/blob/main/PROJECT_2/ASSIGNMENT_1/OFFENSIVE/TweetEval_offensive_ce888.ipynb\" target=\"_parent\"><img src=\"https://colab.research.google.com/assets/colab-badge.svg\" alt=\"Open In Colab\"/></a>"
      ]
    },
    {
      "cell_type": "markdown",
      "metadata": {
        "id": "Nwdn9J58lNqz"
      },
      "source": [
        "#                  **TweetEval-based Multi-class tweet classification**\n",
        "\n",
        "\n",
        "\n",
        "\n",
        "\n",
        "\n",
        "\n"
      ]
    },
    {
      "cell_type": "markdown",
      "metadata": {
        "id": "HewHummMl6m5"
      },
      "source": [
        "# Loading of libraries"
      ]
    },
    {
      "cell_type": "code",
      "metadata": {
        "id": "8-mXYRyi_-C1"
      },
      "source": [
        "import pandas as pd\n",
        "import numpy as np\n",
        "import matplotlib.pyplot as plt\n",
        "import urllib.request\n",
        "import nltk\n",
        "from nltk.stem import PorterStemmer\n",
        "from nltk.stem import SnowballStemmer\n",
        "from nltk.corpus import stopwords\n",
        "from nltk.tokenize import word_tokenize\n",
        "from sklearn.metrics import f1_score\n",
        "import re\n",
        "import requests\n",
        "import string\n",
        "from nltk.corpus import stopwords\n",
        "import seaborn as sns\n",
        "import re\n",
        "from sklearn.metrics import f1_score\n",
        "from sklearn.svm import LinearSVC\n",
        "from sklearn.feature_extraction.text import  CountVectorizer, TfidfVectorizer\n",
        "from sklearn import svm\n",
        "from wordcloud import WordCloud\n"
      ],
      "execution_count": null,
      "outputs": []
    },
    {
      "cell_type": "markdown",
      "metadata": {
        "id": "w4nZ0SMklzfW"
      },
      "source": [
        "# Load the dataset"
      ]
    },
    {
      "cell_type": "code",
      "metadata": {
        "id": "9MxLb3k-fUVa"
      },
      "source": [
        "\n",
        "train_text = pd.read_csv(\"https://raw.githubusercontent.com/cardiffnlp/tweeteval/main/datasets/offensive/train_text.txt\",encoding='utf-8',sep=\"\\t\", header=None)\n",
        "train_label = pd.read_csv(\"https://raw.githubusercontent.com/cardiffnlp/tweeteval/main/datasets/offensive/train_labels.txt\",encoding='utf-8',sep=\"\\t\", header=None)\n",
        "validate_text = pd.read_csv(\"https://raw.githubusercontent.com/cardiffnlp/tweeteval/main/datasets/offensive/val_text.txt\",encoding='utf-8',sep=\"\\t\", header=None)\n",
        "validate_label = pd.read_csv(\"https://raw.githubusercontent.com/cardiffnlp/tweeteval/main/datasets/offensive/val_labels.txt\",encoding='utf-8',sep=\"\\t\", header=None)\n",
        "test_text = pd.read_csv(\"https://raw.githubusercontent.com/cardiffnlp/tweeteval/main/datasets/offensive/test_text.txt\",encoding='utf-8',sep=\"\\t\", header=None)\n",
        "test_label = pd.read_csv(\"https://raw.githubusercontent.com/cardiffnlp/tweeteval/main/datasets/offensive/test_labels.txt\",encoding='utf-8',sep=\"\\t\", header=None)\n",
        "map = pd.read_csv(\"https://raw.githubusercontent.com/cardiffnlp/tweeteval/main/datasets/offensive/mapping.txt\",encoding='utf-8',sep=\"\\t\", header=None)\n",
        "\n"
      ],
      "execution_count": null,
      "outputs": []
    },
    {
      "cell_type": "code",
      "metadata": {
        "id": "ORQ82azud90z"
      },
      "source": [
        "train_text.columns= [\"text\"]\n",
        "train_label.columns= [\"label\"]\n",
        "validate_text.columns= [\"text\"]\n",
        "validate_label.columns= [\"label\"]\n",
        "test_text.columns= [\"text\"]\n",
        "test_label.columns= [\"label\"]\n",
        "map.columns= [\"label\",\"off\"]"
      ],
      "execution_count": null,
      "outputs": []
    },
    {
      "cell_type": "code",
      "metadata": {
        "colab": {
          "base_uri": "https://localhost:8080/",
          "height": 311
        },
        "id": "pvx_Mq3pLJ9V",
        "outputId": "be491923-67b0-456b-9af8-fb9bc73984a9"
      },
      "source": [
        "labels = ['Training Set', 'Validation Set', 'Test Set'] \n",
        "sizes = [len(train_label), len(validate_label), len(test_label)] \n",
        "explode = (0, 0, 0.1)\n",
        "fig1, ax1 = plt.subplots() \n",
        "ax1.pie(sizes, explode=explode, labels=labels, autopct='%1.1f%%', startangle=90)\n",
        "ax1.axis('equal')\n",
        "plt.tight_layout() \n",
        "plt.title(\"data split\") \n",
        "plt.show()"
      ],
      "execution_count": null,
      "outputs": [
        {
          "output_type": "display_data",
          "data": {
            "image/png": "[encoded data removed]",
            "text/plain": [
              "<Figure size 432x288 with 1 Axes>"
            ]
          },
          "metadata": {
            "tags": []
          }
        }
      ]
    },
    {
      "cell_type": "markdown",
      "metadata": {
        "id": "5OEXq0PXgtnZ"
      },
      "source": [
        "# Preprocessing"
      ]
    },
    {
      "cell_type": "code",
      "metadata": {
        "id": "lMXhtghMwiIN"
      },
      "source": [
        "def preprocess(text):\n",
        "    new_text = []\n",
        "    for t in text.split(\" \"):\n",
        "        t = '@user' if t.startswith('@') and len(t) > 1 else t\n",
        "        t = 'http' if t.startswith('http') else t\n",
        "        new_text.append(t)\n",
        "    return \" \".join(new_text)\n"
      ],
      "execution_count": null,
      "outputs": []
    },
    {
      "cell_type": "markdown",
      "metadata": {
        "id": "t0L2XprMgdSL"
      },
      "source": [
        "#Pulls Out all the HTML related tags ,unwanted characters and Amend text to lowercase"
      ]
    },
    {
      "cell_type": "code",
      "metadata": {
        "id": "ZZvlFwx1fWCM"
      },
      "source": [
        "def clean_tweet(text):\n",
        "    text = re.sub(r'<.*?>', '', text)\n",
        "    text = re.sub(r\"\\\\\", \"\", text)    \n",
        "    text = re.sub(r\"\\'\", \"\", text)    \n",
        "    text = re.sub(r\"\\\"\", \"\", text)\n",
        "    text = text.strip().lower()\n",
        "    filters='!\"\\'#$%&()*+,-./:;<=>?@[\\\\]^_`{|}~\\t\\n'\n",
        "    translate_dict = dict((c, \" \") for c in filters)\n",
        "    translate_map = str.maketrans(translate_dict)\n",
        "    text = text.translate(translate_map)\n",
        "    \n",
        "    return text"
      ],
      "execution_count": null,
      "outputs": []
    },
    {
      "cell_type": "markdown",
      "metadata": {
        "id": "qCJffJFDg4Uu"
      },
      "source": [
        "# Tokenizing function used for all the data"
      ]
    },
    {
      "cell_type": "code",
      "metadata": {
        "id": "Oh6xQsguwUFq"
      },
      "source": [
        "def text_preprocessing(text):\n",
        "    tokenizer = nltk.tokenize.RegexpTokenizer(r'\\w+')\n",
        "    nopunc = clean_tweet(text)\n",
        "    tokenized_text = tokenizer.tokenize(nopunc)\n",
        "    combined_text = ' '.join(tokenized_text)\n",
        "    return combined_text"
      ],
      "execution_count": null,
      "outputs": []
    },
    {
      "cell_type": "code",
      "metadata": {
        "colab": {
          "base_uri": "https://localhost:8080/",
          "height": 313
        },
        "id": "9N-eyz3IMJVy",
        "outputId": "d607f9d1-ddfc-4f70-d64b-4a462e7aa4cb"
      },
      "source": [
        "non_off = train_label[train_label.label == 0].shape[0]\n",
        "off = train_label[train_label.label == 1].shape[0]\n",
        "\n",
        "labels = ['Not offensive Tweets', ' offensive Tweets']\n",
        "sizes = [non_off, off]\n",
        "fig1, ax1 = plt.subplots()\n",
        "explode = (0.02, 0.02)  \n",
        "ax1.pie(sizes, explode= explode, labels=labels, autopct='%1.1f%%', startangle=90)\n",
        "ax1.axis('equal')  \n",
        "plt.tight_layout()\n",
        "plt.title(\"percentage of offensive and non offensive Tweets\")\n",
        "plt.show()"
      ],
      "execution_count": null,
      "outputs": [
        {
          "output_type": "display_data",
          "data": {
            "image/png": "[encoded data removed]",
            "text/plain": [
              "<Figure size 432x288 with 1 Axes>"
            ]
          },
          "metadata": {
            "tags": []
          }
        }
      ]
    },
    {
      "cell_type": "markdown",
      "metadata": {
        "id": "qIoJ-R67huB0"
      },
      "source": [
        "#sucession the  dataframe and some further preprocessing"
      ]
    },
    {
      "cell_type": "code",
      "metadata": {
        "colab": {
          "base_uri": "https://localhost:8080/",
          "height": 419
        },
        "id": "cmikXyo9wzUu",
        "outputId": "00460ce4-f123-475f-f42d-85a6c5847c34"
      },
      "source": [
        "\n",
        "con_train = pd.concat([train_text,train_label], axis=1)\n",
        "con_val = pd.concat([validate_text,validate_label], axis=1)\n",
        "con_test = pd.concat([test_text,test_label], axis=1)\n",
        "\n",
        "off_train = pd.merge(con_train,map, on='label')\n",
        "off_validate = pd.merge(con_val,map, on='label')\n",
        "off_test = pd.merge(con_test,map, on='label')\n",
        "\n",
        "train_validate = pd.concat([off_train,off_validate])\n",
        "\n",
        "off_train1 = train_validate.copy()\n",
        "off_train1['clean_t'] = off_train1['text'].apply(str).apply(lambda x: text_preprocessing(x))\n",
        "off_train1['clean_t'] = off_train1['clean_t'].str.replace('user','')\n",
        "off_train1['clean_t'] = off_train1['clean_t'].str.replace('amp','')\n",
        "off_train1\n",
        "\n"
      ],
      "execution_count": null,
      "outputs": [
        {
          "output_type": "execute_result",
          "data": {
            "text/html": [
              "<div>\n",
              "<style scoped>\n",
              "    .dataframe tbody tr th:only-of-type {\n",
              "        vertical-align: middle;\n",
              "    }\n",
              "\n",
              "    .dataframe tbody tr th {\n",
              "        vertical-align: top;\n",
              "    }\n",
              "\n",
              "    .dataframe thead th {\n",
              "        text-align: right;\n",
              "    }\n",
              "</style>\n",
              "<table border=\"1\" class=\"dataframe\">\n",
              "  <thead>\n",
              "    <tr style=\"text-align: right;\">\n",
              "      <th></th>\n",
              "      <th>text</th>\n",
              "      <th>label</th>\n",
              "      <th>off</th>\n",
              "      <th>clean_t</th>\n",
              "    </tr>\n",
              "  </thead>\n",
              "  <tbody>\n",
              "    <tr>\n",
              "      <th>0</th>\n",
              "      <td>@user Bono... who cares. Soon people will unde...</td>\n",
              "      <td>0</td>\n",
              "      <td>not-offensive</td>\n",
              "      <td>bono who cares soon people will understand th...</td>\n",
              "    </tr>\n",
              "    <tr>\n",
              "      <th>1</th>\n",
              "      <td>@user Get him some line help. He is gonna be j...</td>\n",
              "      <td>0</td>\n",
              "      <td>not-offensive</td>\n",
              "      <td>get him some line help he is gonna be just fi...</td>\n",
              "    </tr>\n",
              "    <tr>\n",
              "      <th>2</th>\n",
              "      <td>@user @user She is great. Hi Fiona!</td>\n",
              "      <td>0</td>\n",
              "      <td>not-offensive</td>\n",
              "      <td>she is great hi fiona</td>\n",
              "    </tr>\n",
              "    <tr>\n",
              "      <th>3</th>\n",
              "      <td>@user @user @user @user @user @user @user @use...</td>\n",
              "      <td>0</td>\n",
              "      <td>not-offensive</td>\n",
              "      <td>this is the vetsresistsquadron ...</td>\n",
              "    </tr>\n",
              "    <tr>\n",
              "      <th>4</th>\n",
              "      <td>@user @user Lol. Except he’s the most successf...</td>\n",
              "      <td>0</td>\n",
              "      <td>not-offensive</td>\n",
              "      <td>lol except he s the most successful presiden...</td>\n",
              "    </tr>\n",
              "    <tr>\n",
              "      <th>...</th>\n",
              "      <td>...</td>\n",
              "      <td>...</td>\n",
              "      <td>...</td>\n",
              "      <td>...</td>\n",
              "    </tr>\n",
              "    <tr>\n",
              "      <th>1319</th>\n",
              "      <td>@user @user @user Weak argument considering  -...</td>\n",
              "      <td>1</td>\n",
              "      <td>offensive</td>\n",
              "      <td>weak argument considering gop congressmen w...</td>\n",
              "    </tr>\n",
              "    <tr>\n",
              "      <th>1320</th>\n",
              "      <td>@user Stop saying this shit you are not going ...</td>\n",
              "      <td>1</td>\n",
              "      <td>offensive</td>\n",
              "      <td>stop saying this shit you are not going to do...</td>\n",
              "    </tr>\n",
              "    <tr>\n",
              "      <th>1321</th>\n",
              "      <td>@user @user @user @user @user Sorry to break i...</td>\n",
              "      <td>1</td>\n",
              "      <td>offensive</td>\n",
              "      <td>sorry to break it to you but the god of t...</td>\n",
              "    </tr>\n",
              "    <tr>\n",
              "      <th>1322</th>\n",
              "      <td>. she. is the most powerful woman on this eart...</td>\n",
              "      <td>1</td>\n",
              "      <td>offensive</td>\n",
              "      <td>she is the most powerful woman on this earth o...</td>\n",
              "    </tr>\n",
              "    <tr>\n",
              "      <th>1323</th>\n",
              "      <td>@user Fuck Alan I’m sorry</td>\n",
              "      <td>1</td>\n",
              "      <td>offensive</td>\n",
              "      <td>fuck alan i m sorry</td>\n",
              "    </tr>\n",
              "  </tbody>\n",
              "</table>\n",
              "<p>13240 rows × 4 columns</p>\n",
              "</div>"
            ],
            "text/plain": [
              "                                                   text  ...                                            clean_t\n",
              "0     @user Bono... who cares. Soon people will unde...  ...   bono who cares soon people will understand th...\n",
              "1     @user Get him some line help. He is gonna be j...  ...   get him some line help he is gonna be just fi...\n",
              "2                  @user @user She is great. Hi Fiona!   ...                              she is great hi fiona\n",
              "3     @user @user @user @user @user @user @user @use...  ...                 this is the vetsresistsquadron ...\n",
              "4     @user @user Lol. Except he’s the most successf...  ...    lol except he s the most successful presiden...\n",
              "...                                                 ...  ...                                                ...\n",
              "1319  @user @user @user Weak argument considering  -...  ...     weak argument considering gop congressmen w...\n",
              "1320  @user Stop saying this shit you are not going ...  ...   stop saying this shit you are not going to do...\n",
              "1321  @user @user @user @user @user Sorry to break i...  ...       sorry to break it to you but the god of t...\n",
              "1322  . she. is the most powerful woman on this eart...  ...  she is the most powerful woman on this earth o...\n",
              "1323                         @user Fuck Alan I’m sorry   ...                                fuck alan i m sorry\n",
              "\n",
              "[13240 rows x 4 columns]"
            ]
          },
          "metadata": {
            "tags": []
          },
          "execution_count": 28
        }
      ]
    },
    {
      "cell_type": "code",
      "metadata": {
        "id": "8Jci16nGxTGL"
      },
      "source": [
        "\n",
        "off_1 = off_train1[off_train1 ['off'] == 'off']['clean_t']\n",
        "off_0 = off_train1[off_train1 ['off'] == 'non-off']['clean_t'] \n"
      ],
      "execution_count": null,
      "outputs": []
    },
    {
      "cell_type": "markdown",
      "metadata": {
        "id": "FvZRLk7CipjK"
      },
      "source": [
        "# Vectorizing for Offensive dataset"
      ]
    },
    {
      "cell_type": "code",
      "metadata": {
        "id": "qRAapAwo3UhS"
      },
      "source": [
        "vectorizer = TfidfVectorizer(stop_words=\"english\",preprocessor=clean_tweet,ngram_range=(1, 4))\n",
        "training_features = vectorizer.fit_transform(train_validate[\"text\"])    \n",
        "test_features = vectorizer.transform(off_test[\"text\"])  \n"
      ],
      "execution_count": null,
      "outputs": []
    },
    {
      "cell_type": "markdown",
      "metadata": {
        "id": "mxa2Qbp7i9E2"
      },
      "source": [
        "# Training the model"
      ]
    },
    {
      "cell_type": "code",
      "metadata": {
        "id": "AvSzdh4u_RGR"
      },
      "source": [
        "model = LinearSVC()\n",
        "model.fit(training_features, train_validate[\"off\"])\n",
        "y_pred = model.predict(test_features)"
      ],
      "execution_count": null,
      "outputs": []
    },
    {
      "cell_type": "markdown",
      "metadata": {
        "id": "cx6wN7rujFIy"
      },
      "source": [
        "# Evaluation metrics"
      ]
    },
    {
      "cell_type": "code",
      "metadata": {
        "id": "uUwlffv9jHQx",
        "colab": {
          "base_uri": "https://localhost:8080/"
        },
        "outputId": "339f9d23-73b6-4df1-8637-0f32aaff3519"
      },
      "source": [
        "score = f1_score(off_test[\"off\"], y_pred,average='macro')\n",
        "\n",
        "print(\"Accuracy for the offensive: {:.2f}\".format(score*100,2))"
      ],
      "execution_count": null,
      "outputs": [
        {
          "output_type": "stream",
          "text": [
            "Accuracy for the offensive: 74.88\n"
          ],
          "name": "stdout"
        }
      ]
    }
  ]
}